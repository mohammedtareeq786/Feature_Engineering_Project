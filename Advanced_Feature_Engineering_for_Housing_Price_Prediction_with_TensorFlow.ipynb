{
 "cells": [
  {
   "cell_type": "code",
   "execution_count": 26,
   "id": "779d166f",
   "metadata": {},
   "outputs": [
    {
     "name": "stdout",
     "output_type": "stream",
     "text": [
      "Tensorflow version: 2.15.0\n"
     ]
    }
   ],
   "source": [
    "import tensorflow as tf\n",
    "import tensorflow.keras\n",
    "\n",
    "# Use matplotlib for visualizing the model\n",
    "import matplotlib.pyplot as plt\n",
    "# Import Pandas data processing libraries\n",
    "import pandas as pd\n",
    "\n",
    "from tensorflow import feature_column as fc\n",
    "from tensorflow.keras import layers\n",
    "from sklearn.model_selection import train_test_split\n",
    "\n",
    "print(\"Tensorflow version:\", tf.version.VERSION)"
   ]
  },
  {
   "cell_type": "code",
   "execution_count": 5,
   "id": "a166971c-fc89-4d62-8b6c-08c9007bf74f",
   "metadata": {},
   "outputs": [],
   "source": [
    "housing_df = pd.read_csv(\"housing.csv\")"
   ]
  },
  {
   "cell_type": "code",
   "execution_count": 6,
   "id": "b9f975e1-4bbc-4f23-8085-02de9b379b15",
   "metadata": {},
   "outputs": [
    {
     "data": {
      "text/html": [
       "<div>\n",
       "<style scoped>\n",
       "    .dataframe tbody tr th:only-of-type {\n",
       "        vertical-align: middle;\n",
       "    }\n",
       "\n",
       "    .dataframe tbody tr th {\n",
       "        vertical-align: top;\n",
       "    }\n",
       "\n",
       "    .dataframe thead th {\n",
       "        text-align: right;\n",
       "    }\n",
       "</style>\n",
       "<table border=\"1\" class=\"dataframe\">\n",
       "  <thead>\n",
       "    <tr style=\"text-align: right;\">\n",
       "      <th></th>\n",
       "      <th>longitude</th>\n",
       "      <th>latitude</th>\n",
       "      <th>housing_median_age</th>\n",
       "      <th>total_rooms</th>\n",
       "      <th>total_bedrooms</th>\n",
       "      <th>population</th>\n",
       "      <th>households</th>\n",
       "      <th>median_income</th>\n",
       "      <th>median_house_value</th>\n",
       "      <th>ocean_proximity</th>\n",
       "    </tr>\n",
       "  </thead>\n",
       "  <tbody>\n",
       "    <tr>\n",
       "      <th>0</th>\n",
       "      <td>-122.23</td>\n",
       "      <td>37.88</td>\n",
       "      <td>41.0</td>\n",
       "      <td>880.0</td>\n",
       "      <td>129.0</td>\n",
       "      <td>322.0</td>\n",
       "      <td>126.0</td>\n",
       "      <td>8.3252</td>\n",
       "      <td>452600.0</td>\n",
       "      <td>NEAR BAY</td>\n",
       "    </tr>\n",
       "    <tr>\n",
       "      <th>1</th>\n",
       "      <td>-122.22</td>\n",
       "      <td>37.86</td>\n",
       "      <td>21.0</td>\n",
       "      <td>7099.0</td>\n",
       "      <td>1106.0</td>\n",
       "      <td>2401.0</td>\n",
       "      <td>1138.0</td>\n",
       "      <td>8.3014</td>\n",
       "      <td>358500.0</td>\n",
       "      <td>NEAR BAY</td>\n",
       "    </tr>\n",
       "    <tr>\n",
       "      <th>2</th>\n",
       "      <td>-122.24</td>\n",
       "      <td>37.85</td>\n",
       "      <td>52.0</td>\n",
       "      <td>1467.0</td>\n",
       "      <td>190.0</td>\n",
       "      <td>496.0</td>\n",
       "      <td>177.0</td>\n",
       "      <td>7.2574</td>\n",
       "      <td>352100.0</td>\n",
       "      <td>NEAR BAY</td>\n",
       "    </tr>\n",
       "    <tr>\n",
       "      <th>3</th>\n",
       "      <td>-122.25</td>\n",
       "      <td>37.85</td>\n",
       "      <td>52.0</td>\n",
       "      <td>1274.0</td>\n",
       "      <td>235.0</td>\n",
       "      <td>558.0</td>\n",
       "      <td>219.0</td>\n",
       "      <td>5.6431</td>\n",
       "      <td>341300.0</td>\n",
       "      <td>NEAR BAY</td>\n",
       "    </tr>\n",
       "    <tr>\n",
       "      <th>4</th>\n",
       "      <td>-122.25</td>\n",
       "      <td>37.85</td>\n",
       "      <td>52.0</td>\n",
       "      <td>1627.0</td>\n",
       "      <td>280.0</td>\n",
       "      <td>565.0</td>\n",
       "      <td>259.0</td>\n",
       "      <td>3.8462</td>\n",
       "      <td>342200.0</td>\n",
       "      <td>NEAR BAY</td>\n",
       "    </tr>\n",
       "  </tbody>\n",
       "</table>\n",
       "</div>"
      ],
      "text/plain": [
       "   longitude  latitude  housing_median_age  total_rooms  ...  households  median_income  median_house_value  ocean_proximity\n",
       "0    -122.23     37.88                41.0        880.0  ...       126.0         8.3252            452600.0         NEAR BAY\n",
       "1    -122.22     37.86                21.0       7099.0  ...      1138.0         8.3014            358500.0         NEAR BAY\n",
       "2    -122.24     37.85                52.0       1467.0  ...       177.0         7.2574            352100.0         NEAR BAY\n",
       "3    -122.25     37.85                52.0       1274.0  ...       219.0         5.6431            341300.0         NEAR BAY\n",
       "4    -122.25     37.85                52.0       1627.0  ...       259.0         3.8462            342200.0         NEAR BAY\n",
       "\n",
       "[5 rows x 10 columns]"
      ]
     },
     "execution_count": 6,
     "metadata": {},
     "output_type": "execute_result"
    }
   ],
   "source": [
    "housing_df.head() "
   ]
  },
  {
   "cell_type": "code",
   "execution_count": 8,
   "id": "564d49f8-1542-44eb-9f16-befc14c7bc70",
   "metadata": {},
   "outputs": [
    {
     "data": {
      "text/html": [
       "<div>\n",
       "<style scoped>\n",
       "    .dataframe tbody tr th:only-of-type {\n",
       "        vertical-align: middle;\n",
       "    }\n",
       "\n",
       "    .dataframe tbody tr th {\n",
       "        vertical-align: top;\n",
       "    }\n",
       "\n",
       "    .dataframe thead th {\n",
       "        text-align: right;\n",
       "    }\n",
       "</style>\n",
       "<table border=\"1\" class=\"dataframe\">\n",
       "  <thead>\n",
       "    <tr style=\"text-align: right;\">\n",
       "      <th></th>\n",
       "      <th>longitude</th>\n",
       "      <th>latitude</th>\n",
       "      <th>housing_median_age</th>\n",
       "      <th>total_rooms</th>\n",
       "      <th>total_bedrooms</th>\n",
       "      <th>population</th>\n",
       "      <th>households</th>\n",
       "      <th>median_income</th>\n",
       "      <th>median_house_value</th>\n",
       "    </tr>\n",
       "  </thead>\n",
       "  <tbody>\n",
       "    <tr>\n",
       "      <th>count</th>\n",
       "      <td>20640.000000</td>\n",
       "      <td>20640.000000</td>\n",
       "      <td>20640.000000</td>\n",
       "      <td>20640.000000</td>\n",
       "      <td>20433.000000</td>\n",
       "      <td>20640.000000</td>\n",
       "      <td>20640.000000</td>\n",
       "      <td>20640.000000</td>\n",
       "      <td>20640.000000</td>\n",
       "    </tr>\n",
       "    <tr>\n",
       "      <th>mean</th>\n",
       "      <td>-119.569704</td>\n",
       "      <td>35.631861</td>\n",
       "      <td>28.639486</td>\n",
       "      <td>2635.763081</td>\n",
       "      <td>537.870553</td>\n",
       "      <td>1425.476744</td>\n",
       "      <td>499.539680</td>\n",
       "      <td>3.870671</td>\n",
       "      <td>206855.816909</td>\n",
       "    </tr>\n",
       "    <tr>\n",
       "      <th>std</th>\n",
       "      <td>2.003532</td>\n",
       "      <td>2.135952</td>\n",
       "      <td>12.585558</td>\n",
       "      <td>2181.615252</td>\n",
       "      <td>421.385070</td>\n",
       "      <td>1132.462122</td>\n",
       "      <td>382.329753</td>\n",
       "      <td>1.899822</td>\n",
       "      <td>115395.615874</td>\n",
       "    </tr>\n",
       "    <tr>\n",
       "      <th>min</th>\n",
       "      <td>-124.350000</td>\n",
       "      <td>32.540000</td>\n",
       "      <td>1.000000</td>\n",
       "      <td>2.000000</td>\n",
       "      <td>1.000000</td>\n",
       "      <td>3.000000</td>\n",
       "      <td>1.000000</td>\n",
       "      <td>0.499900</td>\n",
       "      <td>14999.000000</td>\n",
       "    </tr>\n",
       "    <tr>\n",
       "      <th>25%</th>\n",
       "      <td>-121.800000</td>\n",
       "      <td>33.930000</td>\n",
       "      <td>18.000000</td>\n",
       "      <td>1447.750000</td>\n",
       "      <td>296.000000</td>\n",
       "      <td>787.000000</td>\n",
       "      <td>280.000000</td>\n",
       "      <td>2.563400</td>\n",
       "      <td>119600.000000</td>\n",
       "    </tr>\n",
       "    <tr>\n",
       "      <th>50%</th>\n",
       "      <td>-118.490000</td>\n",
       "      <td>34.260000</td>\n",
       "      <td>29.000000</td>\n",
       "      <td>2127.000000</td>\n",
       "      <td>435.000000</td>\n",
       "      <td>1166.000000</td>\n",
       "      <td>409.000000</td>\n",
       "      <td>3.534800</td>\n",
       "      <td>179700.000000</td>\n",
       "    </tr>\n",
       "    <tr>\n",
       "      <th>75%</th>\n",
       "      <td>-118.010000</td>\n",
       "      <td>37.710000</td>\n",
       "      <td>37.000000</td>\n",
       "      <td>3148.000000</td>\n",
       "      <td>647.000000</td>\n",
       "      <td>1725.000000</td>\n",
       "      <td>605.000000</td>\n",
       "      <td>4.743250</td>\n",
       "      <td>264725.000000</td>\n",
       "    </tr>\n",
       "    <tr>\n",
       "      <th>max</th>\n",
       "      <td>-114.310000</td>\n",
       "      <td>41.950000</td>\n",
       "      <td>52.000000</td>\n",
       "      <td>39320.000000</td>\n",
       "      <td>6445.000000</td>\n",
       "      <td>35682.000000</td>\n",
       "      <td>6082.000000</td>\n",
       "      <td>15.000100</td>\n",
       "      <td>500001.000000</td>\n",
       "    </tr>\n",
       "  </tbody>\n",
       "</table>\n",
       "</div>"
      ],
      "text/plain": [
       "          longitude      latitude  housing_median_age  ...    households  median_income  median_house_value\n",
       "count  20640.000000  20640.000000        20640.000000  ...  20640.000000   20640.000000        20640.000000\n",
       "mean    -119.569704     35.631861           28.639486  ...    499.539680       3.870671       206855.816909\n",
       "std        2.003532      2.135952           12.585558  ...    382.329753       1.899822       115395.615874\n",
       "min     -124.350000     32.540000            1.000000  ...      1.000000       0.499900        14999.000000\n",
       "25%     -121.800000     33.930000           18.000000  ...    280.000000       2.563400       119600.000000\n",
       "50%     -118.490000     34.260000           29.000000  ...    409.000000       3.534800       179700.000000\n",
       "75%     -118.010000     37.710000           37.000000  ...    605.000000       4.743250       264725.000000\n",
       "max     -114.310000     41.950000           52.000000  ...   6082.000000      15.000100       500001.000000\n",
       "\n",
       "[8 rows x 9 columns]"
      ]
     },
     "execution_count": 8,
     "metadata": {},
     "output_type": "execute_result"
    }
   ],
   "source": [
    "housing_df.describe()"
   ]
  },
  {
   "cell_type": "markdown",
   "id": "9571bd26-6550-49a8-8075-c7225aee4981",
   "metadata": {},
   "source": [
    "__split the datset for ML model__"
   ]
  },
  {
   "cell_type": "code",
   "execution_count": 9,
   "id": "a67f235e-49c7-4182-8275-3af58c6af479",
   "metadata": {},
   "outputs": [
    {
     "name": "stdout",
     "output_type": "stream",
     "text": [
      "13209 train example\n",
      "3303 Validation example\n",
      "4128 test example\n"
     ]
    }
   ],
   "source": [
    "#split dataset into train, test and validation sets\n",
    "\n",
    "train, test = train_test_split(housing_df, test_size=0.2)\n",
    "train, val = train_test_split(train, test_size= 0.2)\n",
    "\n",
    "print(len(train), \"train example\")\n",
    "print(len(val), \"Validation example\")\n",
    "print(len(test), \"test example\")"
   ]
  },
  {
   "cell_type": "code",
   "execution_count": 10,
   "id": "464a9f93-5efb-4860-b946-234dec24a2ca",
   "metadata": {},
   "outputs": [],
   "source": [
    "train.to_csv(\"housing_train.csv\", encoding=\"utf-8\", index = False)"
   ]
  },
  {
   "cell_type": "code",
   "execution_count": 11,
   "id": "cab5586a-640c-4974-90a2-c75a718ba176",
   "metadata": {},
   "outputs": [],
   "source": [
    "val.to_csv('housing_val.csv', encoding='utf-8', index=False)"
   ]
  },
  {
   "cell_type": "code",
   "execution_count": 12,
   "id": "ff67e47c-f6a2-4312-bca6-3fa76b56b457",
   "metadata": {},
   "outputs": [],
   "source": [
    "test.to_csv(\"housing_test.csv\", encoding=\"utf-8\", index = False)"
   ]
  },
  {
   "cell_type": "markdown",
   "id": "f2590177-221c-4200-9d40-302e12bc1963",
   "metadata": {},
   "source": [
    "# 1. Create an input pipeline using tf.data"
   ]
  },
  {
   "cell_type": "code",
   "execution_count": 13,
   "id": "7b3edcca-4ed8-47c1-95b1-8fbd0fb7b243",
   "metadata": {},
   "outputs": [],
   "source": [
    "def df_to_dataset(dataframe, shuffle=True, batch_size=32):\n",
    "    dataframe = dataframe.copy()\n",
    "    labels = dataframe.pop('median_house_value')\n",
    "    ds = tf.data.Dataset.from_tensor_slices((dict(dataframe), labels))\n",
    "    if shuffle:\n",
    "        ds = ds.shuffle(buffer_size=len(dataframe))\n",
    "    ds = ds.batch(batch_size)\n",
    "    return ds"
   ]
  },
  {
   "cell_type": "markdown",
   "id": "0e7af26d-17c6-4d34-8d65-cf2cfe9becd5",
   "metadata": {},
   "source": [
    "Initialize training and validation datasets"
   ]
  },
  {
   "cell_type": "code",
   "execution_count": 15,
   "id": "db3b577d-21f0-44a8-9dec-df5439866e44",
   "metadata": {},
   "outputs": [],
   "source": [
    "batch_size = 32\n",
    "train_ds = df_to_dataset(train)\n",
    "val_ds = df_to_dataset(val, shuffle=False, batch_size=batch_size)"
   ]
  },
  {
   "cell_type": "markdown",
   "id": "a4d6502c-ce7a-49c7-bc71-1df5df024daa",
   "metadata": {},
   "source": [
    "after creating the input pipeline let's check the format of the data it returns. use a small batch siz e to keep the output readable"
   ]
  },
  {
   "cell_type": "code",
   "execution_count": 16,
   "id": "1124fce8-18ac-49fc-9482-77efeb2cd62d",
   "metadata": {},
   "outputs": [
    {
     "name": "stdout",
     "output_type": "stream",
     "text": [
      "Every feature: ['longitude', 'latitude', 'housing_median_age', 'total_rooms', 'total_bedrooms', 'population', 'households', 'median_income', 'ocean_proximity']\n",
      "A batch of households: tf.Tensor(\n",
      "[ 681. 1070.  467.  307. 1043.  251.  519.  649.   71.  258.  480.  979.\n",
      "  233.  540.  831.  530.  704.  293.  309.  397.  466.  444.  508.  261.\n",
      "  365.  595.  229.  421.  356.  334.  414.  342.], shape=(32,), dtype=float64)\n",
      "A batch of ocean_proximity: tf.Tensor(\n",
      "[b'NEAR OCEAN' b'<1H OCEAN' b'NEAR BAY' b'<1H OCEAN' b'<1H OCEAN'\n",
      " b'<1H OCEAN' b'NEAR BAY' b'<1H OCEAN' b'NEAR OCEAN' b'<1H OCEAN'\n",
      " b'<1H OCEAN' b'INLAND' b'NEAR BAY' b'INLAND' b'NEAR OCEAN' b'INLAND'\n",
      " b'INLAND' b'INLAND' b'INLAND' b'<1H OCEAN' b'NEAR BAY' b'<1H OCEAN'\n",
      " b'<1H OCEAN' b'<1H OCEAN' b'NEAR BAY' b'INLAND' b'<1H OCEAN' b'INLAND'\n",
      " b'INLAND' b'NEAR BAY' b'<1H OCEAN' b'INLAND'], shape=(32,), dtype=string)\n",
      "A batch of targets: tf.Tensor(\n",
      "[144500. 310000. 358700. 453700. 214000. 380400. 155500. 118300. 137500.\n",
      " 109400. 278900. 138900. 500000. 201700. 243100.  93100.  91600. 118300.\n",
      " 275800. 165100. 233300. 137500. 193100. 237900. 238600. 100600. 143800.\n",
      "  93800.  90300. 261300. 498700. 161400.], shape=(32,), dtype=float64)\n"
     ]
    }
   ],
   "source": [
    "for feature_batch, label_batch in train_ds.take(1):\n",
    "    print('Every feature:', list(feature_batch.keys()))\n",
    "    print('A batch of households:', feature_batch['households'])\n",
    "    print('A batch of ocean_proximity:', feature_batch['ocean_proximity'])\n",
    "    print('A batch of targets:', label_batch)"
   ]
  },
  {
   "cell_type": "markdown",
   "id": "37a9ae9f-c2d2-4511-8f37-a2c809823c83",
   "metadata": {},
   "source": [
    "__Numeric Columns__\n",
    "\n",
    "The output of a feature column becomes the input to the model. Numeric Column is used to represent real valued features. When using this column, model will receive the column value from the dataframe unchanged."
   ]
  },
  {
   "cell_type": "code",
   "execution_count": 17,
   "id": "0bca234d-1b4f-4dcd-8d57-bdea8a3e9382",
   "metadata": {},
   "outputs": [],
   "source": [
    "numeric_cols = ['longitude', 'latitude', 'housing_median_age', 'total_rooms', 'total_bedrooms', 'population', 'households', 'median_income']"
   ]
  },
  {
   "cell_type": "markdown",
   "id": "3d3b2d59-90a5-4f9b-80dc-d57741351bb2",
   "metadata": {},
   "source": [
    "__Scaler function__\n",
    "\n",
    "It is very important for numerical variables to get scaled before they are \"fed\" into the neural network. Here min-max scaling is used. Here a function named 'get_scal' which takes a list of numerical features and returns a 'minmax' function, which will be used in tf.feature_column.numeric_column() as normalizer_fn in parameters. 'Minmax' function itself takes a 'numerical' number from a particular feature and return scaled value of that number. "
   ]
  },
  {
   "cell_type": "code",
   "execution_count": 18,
   "id": "8922fb31-9a9f-4875-8a30-01e9031c39c2",
   "metadata": {},
   "outputs": [],
   "source": [
    "def get_scal(feature):\n",
    "    def minmax(x):\n",
    "        mini = train[feature].min()\n",
    "        maxi = train[feature].max()\n",
    "        return (x - mini)/(maxi-mini)\n",
    "        return(minmax)"
   ]
  },
  {
   "cell_type": "code",
   "execution_count": 19,
   "id": "bc291e0a-af77-42a7-b143-f8032294154c",
   "metadata": {},
   "outputs": [
    {
     "name": "stdout",
     "output_type": "stream",
     "text": [
      "WARNING:tensorflow:From C:\\Users\\shaik\\AppData\\Local\\Temp\\ipykernel_1624\\518332928.py:4: numeric_column (from tensorflow.python.feature_column.feature_column_v2) is deprecated and will be removed in a future version.\n",
      "Instructions for updating:\n",
      "Use Keras preprocessing layers instead, either directly or via the `tf.keras.utils.FeatureSpace` utility. Each of `tf.feature_column.*` has a functional equivalent in `tf.keras.layers` for feature preprocessing when training a Keras model.\n"
     ]
    }
   ],
   "source": [
    "feature_columns = []\n",
    "for header in numeric_cols:\n",
    "    scal_input_fn = get_scal(header)\n",
    "    feature_columns.append(fc.numeric_column(header,\n",
    "                                             normalizer_fn=scal_input_fn))"
   ]
  },
  {
   "cell_type": "code",
   "execution_count": 20,
   "id": "909dce23-3c8e-46bf-a6ef-252ca6e84932",
   "metadata": {},
   "outputs": [
    {
     "name": "stdout",
     "output_type": "stream",
     "text": [
      "Total number of feature coLumns:  8\n"
     ]
    }
   ],
   "source": [
    "print('Total number of feature coLumns: ', len(feature_columns))"
   ]
  },
  {
   "cell_type": "markdown",
   "id": "0265bedf-a3a0-41b0-9f4c-4e1db6bc1aed",
   "metadata": {},
   "source": [
    "__Build the keras sequential model__"
   ]
  },
  {
   "cell_type": "code",
   "execution_count": 22,
   "id": "a8fc605e-4a4e-4311-b867-72b94f334369",
   "metadata": {},
   "outputs": [
    {
     "name": "stdout",
     "output_type": "stream",
     "text": [
      "WARNING:tensorflow:From C:\\Users\\shaik\\anaconda3\\envs\\Data_Science_Project\\Lib\\site-packages\\keras\\src\\backend.py:873: The name tf.get_default_graph is deprecated. Please use tf.compat.v1.get_default_graph instead.\n",
      "\n",
      "WARNING:tensorflow:From C:\\Users\\shaik\\anaconda3\\envs\\Data_Science_Project\\Lib\\site-packages\\keras\\src\\optimizers\\__init__.py:309: The name tf.train.Optimizer is deprecated. Please use tf.compat.v1.train.Optimizer instead.\n",
      "\n",
      "Epoch 1/32\n",
      "WARNING:tensorflow:From C:\\Users\\shaik\\anaconda3\\envs\\Data_Science_Project\\Lib\\site-packages\\keras\\src\\utils\\tf_utils.py:492: The name tf.ragged.RaggedTensorValue is deprecated. Please use tf.compat.v1.ragged.RaggedTensorValue instead.\n",
      "\n",
      "WARNING:tensorflow:From C:\\Users\\shaik\\anaconda3\\envs\\Data_Science_Project\\Lib\\site-packages\\keras\\src\\engine\\base_layer_utils.py:384: The name tf.executing_eagerly_outside_functions is deprecated. Please use tf.compat.v1.executing_eagerly_outside_functions instead.\n",
      "\n",
      "413/413 [==============================] - 4s 5ms/step - loss: 56507961344.0000 - mse: 56507961344.0000 - val_loss: 56171073536.0000 - val_mse: 56171073536.0000\n",
      "Epoch 2/32\n",
      "413/413 [==============================] - 2s 4ms/step - loss: 56507944960.0000 - mse: 56507944960.0000 - val_loss: 56170274816.0000 - val_mse: 56170274816.0000\n",
      "Epoch 3/32\n",
      "413/413 [==============================] - 2s 4ms/step - loss: 56506925056.0000 - mse: 56506925056.0000 - val_loss: 56169021440.0000 - val_mse: 56169021440.0000\n",
      "Epoch 4/32\n",
      "413/413 [==============================] - 2s 4ms/step - loss: 56505425920.0000 - mse: 56505425920.0000 - val_loss: 56167219200.0000 - val_mse: 56167219200.0000\n",
      "Epoch 5/32\n",
      "413/413 [==============================] - 2s 5ms/step - loss: 56503316480.0000 - mse: 56503316480.0000 - val_loss: 56164802560.0000 - val_mse: 56164802560.0000\n",
      "Epoch 6/32\n",
      "413/413 [==============================] - 2s 5ms/step - loss: 56500465664.0000 - mse: 56500465664.0000 - val_loss: 56161509376.0000 - val_mse: 56161509376.0000\n",
      "Epoch 7/32\n",
      "413/413 [==============================] - 2s 4ms/step - loss: 56496705536.0000 - mse: 56496705536.0000 - val_loss: 56157249536.0000 - val_mse: 56157249536.0000\n",
      "Epoch 8/32\n",
      "413/413 [==============================] - 2s 4ms/step - loss: 56491917312.0000 - mse: 56491917312.0000 - val_loss: 56151826432.0000 - val_mse: 56151826432.0000\n",
      "Epoch 9/32\n",
      "413/413 [==============================] - 2s 4ms/step - loss: 56485863424.0000 - mse: 56485863424.0000 - val_loss: 56145137664.0000 - val_mse: 56145137664.0000\n",
      "Epoch 10/32\n",
      "413/413 [==============================] - 2s 4ms/step - loss: 56478564352.0000 - mse: 56478564352.0000 - val_loss: 56137138176.0000 - val_mse: 56137138176.0000\n",
      "Epoch 11/32\n",
      "413/413 [==============================] - 2s 4ms/step - loss: 56469893120.0000 - mse: 56469893120.0000 - val_loss: 56127889408.0000 - val_mse: 56127889408.0000\n",
      "Epoch 12/32\n",
      "413/413 [==============================] - 2s 5ms/step - loss: 56460099584.0000 - mse: 56460099584.0000 - val_loss: 56117481472.0000 - val_mse: 56117481472.0000\n",
      "Epoch 13/32\n",
      "413/413 [==============================] - 2s 6ms/step - loss: 56449146880.0000 - mse: 56449146880.0000 - val_loss: 56106057728.0000 - val_mse: 56106057728.0000\n",
      "Epoch 14/32\n",
      "413/413 [==============================] - 2s 5ms/step - loss: 56437288960.0000 - mse: 56437288960.0000 - val_loss: 56093663232.0000 - val_mse: 56093663232.0000\n",
      "Epoch 15/32\n",
      "413/413 [==============================] - 3s 6ms/step - loss: 56424419328.0000 - mse: 56424419328.0000 - val_loss: 56080400384.0000 - val_mse: 56080400384.0000\n",
      "Epoch 16/32\n",
      "413/413 [==============================] - 2s 5ms/step - loss: 56410767360.0000 - mse: 56410767360.0000 - val_loss: 56066269184.0000 - val_mse: 56066269184.0000\n",
      "Epoch 17/32\n",
      "413/413 [==============================] - 2s 5ms/step - loss: 56396259328.0000 - mse: 56396259328.0000 - val_loss: 56051343360.0000 - val_mse: 56051343360.0000\n",
      "Epoch 18/32\n",
      "413/413 [==============================] - 2s 5ms/step - loss: 56380915712.0000 - mse: 56380915712.0000 - val_loss: 56035586048.0000 - val_mse: 56035586048.0000\n",
      "Epoch 19/32\n",
      "413/413 [==============================] - 2s 4ms/step - loss: 56364789760.0000 - mse: 56364789760.0000 - val_loss: 56019021824.0000 - val_mse: 56019021824.0000\n",
      "Epoch 20/32\n",
      "413/413 [==============================] - 2s 4ms/step - loss: 56347922432.0000 - mse: 56347922432.0000 - val_loss: 56001732608.0000 - val_mse: 56001732608.0000\n",
      "Epoch 21/32\n",
      "413/413 [==============================] - 2s 4ms/step - loss: 56330194944.0000 - mse: 56330194944.0000 - val_loss: 55983661056.0000 - val_mse: 55983661056.0000\n",
      "Epoch 22/32\n",
      "413/413 [==============================] - 2s 4ms/step - loss: 56311791616.0000 - mse: 56311791616.0000 - val_loss: 55964790784.0000 - val_mse: 55964790784.0000\n",
      "Epoch 23/32\n",
      "413/413 [==============================] - 2s 4ms/step - loss: 56292601856.0000 - mse: 56292601856.0000 - val_loss: 55945183232.0000 - val_mse: 55945183232.0000\n",
      "Epoch 24/32\n",
      "413/413 [==============================] - 2s 4ms/step - loss: 56272592896.0000 - mse: 56272592896.0000 - val_loss: 55924813824.0000 - val_mse: 55924813824.0000\n",
      "Epoch 25/32\n",
      "413/413 [==============================] - 2s 4ms/step - loss: 56251883520.0000 - mse: 56251883520.0000 - val_loss: 55903727616.0000 - val_mse: 55903727616.0000\n",
      "Epoch 26/32\n",
      "413/413 [==============================] - 2s 4ms/step - loss: 56230404096.0000 - mse: 56230404096.0000 - val_loss: 55881863168.0000 - val_mse: 55881863168.0000\n",
      "Epoch 27/32\n",
      "413/413 [==============================] - 2s 4ms/step - loss: 56208232448.0000 - mse: 56208232448.0000 - val_loss: 55859240960.0000 - val_mse: 55859240960.0000\n",
      "Epoch 28/32\n",
      "413/413 [==============================] - 2s 4ms/step - loss: 56185249792.0000 - mse: 56185249792.0000 - val_loss: 55835873280.0000 - val_mse: 55835873280.0000\n",
      "Epoch 29/32\n",
      "413/413 [==============================] - 2s 4ms/step - loss: 56161566720.0000 - mse: 56161566720.0000 - val_loss: 55811776512.0000 - val_mse: 55811776512.0000\n",
      "Epoch 30/32\n",
      "413/413 [==============================] - 2s 5ms/step - loss: 56137080832.0000 - mse: 56137080832.0000 - val_loss: 55786950656.0000 - val_mse: 55786950656.0000\n",
      "Epoch 31/32\n",
      "413/413 [==============================] - 2s 4ms/step - loss: 56111931392.0000 - mse: 56111931392.0000 - val_loss: 55761375232.0000 - val_mse: 55761375232.0000\n",
      "Epoch 32/32\n",
      "413/413 [==============================] - 2s 4ms/step - loss: 56086036480.0000 - mse: 56086036480.0000 - val_loss: 55735037952.0000 - val_mse: 55735037952.0000\n"
     ]
    }
   ],
   "source": [
    "# Model create\n",
    "# `tf.keras.layers.DenseFeatures()` is a layer that produces a dense Tensor based on given feature_columns.\n",
    "feature_layer = tf.keras.layers.DenseFeatures(feature_columns, dtype='float64')\n",
    "\n",
    "# `tf.keras.Sequential()` groups a linear stack of layers into a tf.keras.Model.\n",
    "model = tf.keras.Sequential([\n",
    "  feature_layer,\n",
    "  layers.Dense(12, input_dim=8, activation='relu'),\n",
    "  layers.Dense(8, activation='relu'),\n",
    "  layers.Dense(1, activation='linear',  name='median_house_value')\n",
    "])\n",
    "\n",
    "# Model compile\n",
    "model.compile(optimizer='adam',\n",
    "              loss='mse',\n",
    "              metrics=['mse'])\n",
    "\n",
    "# Model Fit\n",
    "history = model.fit(train_ds,\n",
    "                    validation_data=val_ds,\n",
    "                    epochs=32)"
   ]
  },
  {
   "cell_type": "markdown",
   "id": "5651f74e-5b03-4ca4-967a-4c7d9bfa9a96",
   "metadata": {},
   "source": [
    "__MSE is the most commonly used regression loss function. MSE is the sum of squared distances between our target variable (e.g. housing median age) and predicted values.__"
   ]
  },
  {
   "cell_type": "code",
   "execution_count": 23,
   "id": "65b213a0-fb8e-46f4-a51a-4da86d20ddd8",
   "metadata": {},
   "outputs": [
    {
     "name": "stdout",
     "output_type": "stream",
     "text": [
      "413/413 [==============================] - 1s 3ms/step - loss: 56072761344.0000 - mse: 56072761344.0000\n",
      "Mean Squared Error 56072761344.0\n"
     ]
    }
   ],
   "source": [
    "# Let's show loss as Mean Square Error (MSE)\n",
    "loss, mse = model.evaluate(train_ds)\n",
    "print(\"Mean Squared Error\", mse)"
   ]
  },
  {
   "cell_type": "markdown",
   "id": "2eef2a66-5c06-44bb-8cc3-18ad7a5f97a1",
   "metadata": {},
   "source": [
    "__Visualize the loss curve__\n",
    "\n",
    "Visualize the mean squared error loss over the training epochs for both the train (blue) and test (orange) sets."
   ]
  },
  {
   "cell_type": "code",
   "execution_count": 30,
   "id": "ba169bbb-12f8-420d-a6b6-38a9b0ac1a31",
   "metadata": {},
   "outputs": [],
   "source": [
    "# model's loss curves for training and validation\n",
    "def plot_curves(history, metrics):\n",
    "    nrows = 1\n",
    "    ncols = 2\n",
    "    fig = plt.figure(figsize=(20, 10))\n",
    "\n",
    "    for idx, key in enumerate(metrics):  \n",
    "        ax = fig.add_subplot(nrows, ncols, idx+1)\n",
    "        plt.plot(history.history[key])\n",
    "        plt.plot(history.history['val_{}'.format(key)])\n",
    "        plt.title('model {}'.format(key))\n",
    "        plt.ylabel(key)\n",
    "        plt.xlabel('epoch')\n",
    "        plt.legend(['train', 'validation'], loc='upper left');  "
   ]
  },
  {
   "cell_type": "code",
   "execution_count": 31,
   "id": "d268b5bc-6374-4a4d-9df1-79e1c9dab3da",
   "metadata": {},
   "outputs": [
    {
     "data": {
      "image/png": "[encoded data removed]",
      "text/plain": [
       "<Figure size 2000x1000 with 2 Axes>"
      ]
     },
     "metadata": {},
     "output_type": "display_data"
    }
   ],
   "source": [
    "plot_curves(history, ['loss', 'mse'])"
   ]
  },
  {
   "cell_type": "markdown",
   "id": "bdf99fa9-fbd8-4cd3-8906-fb904845ec97",
   "metadata": {},
   "source": [
    "__Load test dataset__"
   ]
  },
  {
   "cell_type": "code",
   "execution_count": 33,
   "id": "ffa89e21-af80-4378-9d95-562b0449f23d",
   "metadata": {},
   "outputs": [],
   "source": [
    "test_data = pd.read_csv(\"housing_test.csv\")"
   ]
  },
  {
   "cell_type": "code",
   "execution_count": 34,
   "id": "9f1c9636-5871-492a-835b-7c064fe9d033",
   "metadata": {},
   "outputs": [
    {
     "data": {
      "text/html": [
       "<div>\n",
       "<style scoped>\n",
       "    .dataframe tbody tr th:only-of-type {\n",
       "        vertical-align: middle;\n",
       "    }\n",
       "\n",
       "    .dataframe tbody tr th {\n",
       "        vertical-align: top;\n",
       "    }\n",
       "\n",
       "    .dataframe thead th {\n",
       "        text-align: right;\n",
       "    }\n",
       "</style>\n",
       "<table border=\"1\" class=\"dataframe\">\n",
       "  <thead>\n",
       "    <tr style=\"text-align: right;\">\n",
       "      <th></th>\n",
       "      <th>longitude</th>\n",
       "      <th>latitude</th>\n",
       "      <th>housing_median_age</th>\n",
       "      <th>total_rooms</th>\n",
       "      <th>total_bedrooms</th>\n",
       "      <th>population</th>\n",
       "      <th>households</th>\n",
       "      <th>median_income</th>\n",
       "      <th>median_house_value</th>\n",
       "      <th>ocean_proximity</th>\n",
       "    </tr>\n",
       "  </thead>\n",
       "  <tbody>\n",
       "    <tr>\n",
       "      <th>0</th>\n",
       "      <td>-122.01</td>\n",
       "      <td>39.21</td>\n",
       "      <td>50.0</td>\n",
       "      <td>1592.0</td>\n",
       "      <td>372.0</td>\n",
       "      <td>781.0</td>\n",
       "      <td>307.0</td>\n",
       "      <td>2.2679</td>\n",
       "      <td>69100.0</td>\n",
       "      <td>INLAND</td>\n",
       "    </tr>\n",
       "    <tr>\n",
       "      <th>1</th>\n",
       "      <td>-118.33</td>\n",
       "      <td>33.97</td>\n",
       "      <td>44.0</td>\n",
       "      <td>2526.0</td>\n",
       "      <td>579.0</td>\n",
       "      <td>1423.0</td>\n",
       "      <td>573.0</td>\n",
       "      <td>2.5363</td>\n",
       "      <td>158800.0</td>\n",
       "      <td>&lt;1H OCEAN</td>\n",
       "    </tr>\n",
       "    <tr>\n",
       "      <th>2</th>\n",
       "      <td>-116.92</td>\n",
       "      <td>32.86</td>\n",
       "      <td>11.0</td>\n",
       "      <td>2204.0</td>\n",
       "      <td>518.0</td>\n",
       "      <td>1472.0</td>\n",
       "      <td>497.0</td>\n",
       "      <td>2.3693</td>\n",
       "      <td>127000.0</td>\n",
       "      <td>&lt;1H OCEAN</td>\n",
       "    </tr>\n",
       "    <tr>\n",
       "      <th>3</th>\n",
       "      <td>-118.15</td>\n",
       "      <td>34.13</td>\n",
       "      <td>30.0</td>\n",
       "      <td>2763.0</td>\n",
       "      <td>520.0</td>\n",
       "      <td>1143.0</td>\n",
       "      <td>465.0</td>\n",
       "      <td>4.7298</td>\n",
       "      <td>500001.0</td>\n",
       "      <td>&lt;1H OCEAN</td>\n",
       "    </tr>\n",
       "    <tr>\n",
       "      <th>4</th>\n",
       "      <td>-117.67</td>\n",
       "      <td>33.51</td>\n",
       "      <td>17.0</td>\n",
       "      <td>2112.0</td>\n",
       "      <td>480.0</td>\n",
       "      <td>1893.0</td>\n",
       "      <td>433.0</td>\n",
       "      <td>4.0388</td>\n",
       "      <td>120400.0</td>\n",
       "      <td>&lt;1H OCEAN</td>\n",
       "    </tr>\n",
       "  </tbody>\n",
       "</table>\n",
       "</div>"
      ],
      "text/plain": [
       "   longitude  latitude  housing_median_age  total_rooms  ...  households  median_income  median_house_value  ocean_proximity\n",
       "0    -122.01     39.21                50.0       1592.0  ...       307.0         2.2679             69100.0           INLAND\n",
       "1    -118.33     33.97                44.0       2526.0  ...       573.0         2.5363            158800.0        <1H OCEAN\n",
       "2    -116.92     32.86                11.0       2204.0  ...       497.0         2.3693            127000.0        <1H OCEAN\n",
       "3    -118.15     34.13                30.0       2763.0  ...       465.0         4.7298            500001.0        <1H OCEAN\n",
       "4    -117.67     33.51                17.0       2112.0  ...       433.0         4.0388            120400.0        <1H OCEAN\n",
       "\n",
       "[5 rows x 10 columns]"
      ]
     },
     "execution_count": 34,
     "metadata": {},
     "output_type": "execute_result"
    }
   ],
   "source": [
    "test_data.head()"
   ]
  },
  {
   "cell_type": "code",
   "execution_count": 35,
   "id": "8655ef1f-09f4-4be1-b835-1cc5ce0227e8",
   "metadata": {},
   "outputs": [
    {
     "data": {
      "text/html": [
       "<div>\n",
       "<style scoped>\n",
       "    .dataframe tbody tr th:only-of-type {\n",
       "        vertical-align: middle;\n",
       "    }\n",
       "\n",
       "    .dataframe tbody tr th {\n",
       "        vertical-align: top;\n",
       "    }\n",
       "\n",
       "    .dataframe thead th {\n",
       "        text-align: right;\n",
       "    }\n",
       "</style>\n",
       "<table border=\"1\" class=\"dataframe\">\n",
       "  <thead>\n",
       "    <tr style=\"text-align: right;\">\n",
       "      <th></th>\n",
       "      <th>longitude</th>\n",
       "      <th>latitude</th>\n",
       "      <th>housing_median_age</th>\n",
       "      <th>total_rooms</th>\n",
       "      <th>total_bedrooms</th>\n",
       "      <th>population</th>\n",
       "      <th>households</th>\n",
       "      <th>median_income</th>\n",
       "      <th>median_house_value</th>\n",
       "    </tr>\n",
       "  </thead>\n",
       "  <tbody>\n",
       "    <tr>\n",
       "      <th>count</th>\n",
       "      <td>4128.000000</td>\n",
       "      <td>4128.000000</td>\n",
       "      <td>4128.000000</td>\n",
       "      <td>4128.000000</td>\n",
       "      <td>4089.000000</td>\n",
       "      <td>4128.000000</td>\n",
       "      <td>4128.000000</td>\n",
       "      <td>4128.000000</td>\n",
       "      <td>4128.000000</td>\n",
       "    </tr>\n",
       "    <tr>\n",
       "      <th>mean</th>\n",
       "      <td>-119.585954</td>\n",
       "      <td>35.650802</td>\n",
       "      <td>28.491521</td>\n",
       "      <td>2653.095688</td>\n",
       "      <td>541.598190</td>\n",
       "      <td>1426.526163</td>\n",
       "      <td>503.510174</td>\n",
       "      <td>3.819878</td>\n",
       "      <td>204543.645833</td>\n",
       "    </tr>\n",
       "    <tr>\n",
       "      <th>std</th>\n",
       "      <td>2.012061</td>\n",
       "      <td>2.141685</td>\n",
       "      <td>12.598627</td>\n",
       "      <td>2210.578200</td>\n",
       "      <td>427.333176</td>\n",
       "      <td>1166.205307</td>\n",
       "      <td>387.856355</td>\n",
       "      <td>1.799872</td>\n",
       "      <td>113683.770849</td>\n",
       "    </tr>\n",
       "    <tr>\n",
       "      <th>min</th>\n",
       "      <td>-124.300000</td>\n",
       "      <td>32.560000</td>\n",
       "      <td>2.000000</td>\n",
       "      <td>19.000000</td>\n",
       "      <td>5.000000</td>\n",
       "      <td>9.000000</td>\n",
       "      <td>3.000000</td>\n",
       "      <td>0.499900</td>\n",
       "      <td>14999.000000</td>\n",
       "    </tr>\n",
       "    <tr>\n",
       "      <th>25%</th>\n",
       "      <td>-121.830000</td>\n",
       "      <td>33.930000</td>\n",
       "      <td>18.000000</td>\n",
       "      <td>1461.750000</td>\n",
       "      <td>300.000000</td>\n",
       "      <td>790.000000</td>\n",
       "      <td>284.000000</td>\n",
       "      <td>2.553600</td>\n",
       "      <td>118175.000000</td>\n",
       "    </tr>\n",
       "    <tr>\n",
       "      <th>50%</th>\n",
       "      <td>-118.530000</td>\n",
       "      <td>34.270000</td>\n",
       "      <td>29.000000</td>\n",
       "      <td>2151.500000</td>\n",
       "      <td>438.000000</td>\n",
       "      <td>1165.000000</td>\n",
       "      <td>411.000000</td>\n",
       "      <td>3.521300</td>\n",
       "      <td>180650.000000</td>\n",
       "    </tr>\n",
       "    <tr>\n",
       "      <th>75%</th>\n",
       "      <td>-117.990000</td>\n",
       "      <td>37.710000</td>\n",
       "      <td>37.000000</td>\n",
       "      <td>3149.000000</td>\n",
       "      <td>647.000000</td>\n",
       "      <td>1699.000000</td>\n",
       "      <td>612.000000</td>\n",
       "      <td>4.694400</td>\n",
       "      <td>260325.000000</td>\n",
       "    </tr>\n",
       "    <tr>\n",
       "      <th>max</th>\n",
       "      <td>-114.310000</td>\n",
       "      <td>41.950000</td>\n",
       "      <td>52.000000</td>\n",
       "      <td>32627.000000</td>\n",
       "      <td>6445.000000</td>\n",
       "      <td>28566.000000</td>\n",
       "      <td>6082.000000</td>\n",
       "      <td>15.000100</td>\n",
       "      <td>500001.000000</td>\n",
       "    </tr>\n",
       "  </tbody>\n",
       "</table>\n",
       "</div>"
      ],
      "text/plain": [
       "         longitude     latitude  housing_median_age  ...   households  median_income  median_house_value\n",
       "count  4128.000000  4128.000000         4128.000000  ...  4128.000000    4128.000000         4128.000000\n",
       "mean   -119.585954    35.650802           28.491521  ...   503.510174       3.819878       204543.645833\n",
       "std       2.012061     2.141685           12.598627  ...   387.856355       1.799872       113683.770849\n",
       "min    -124.300000    32.560000            2.000000  ...     3.000000       0.499900        14999.000000\n",
       "25%    -121.830000    33.930000           18.000000  ...   284.000000       2.553600       118175.000000\n",
       "50%    -118.530000    34.270000           29.000000  ...   411.000000       3.521300       180650.000000\n",
       "75%    -117.990000    37.710000           37.000000  ...   612.000000       4.694400       260325.000000\n",
       "max    -114.310000    41.950000           52.000000  ...  6082.000000      15.000100       500001.000000\n",
       "\n",
       "[8 rows x 9 columns]"
      ]
     },
     "execution_count": 35,
     "metadata": {},
     "output_type": "execute_result"
    }
   ],
   "source": [
    "test_data.describe()"
   ]
  },
  {
   "cell_type": "markdown",
   "id": "75cdaec6-68bd-4319-97e2-d6357bff6381",
   "metadata": {},
   "source": [
    "create the input function for the test data and to initialize the test_predict variable."
   ]
  },
  {
   "cell_type": "code",
   "execution_count": 36,
   "id": "32e6d540-fa80-4dde-8995-a76944e67740",
   "metadata": {},
   "outputs": [],
   "source": [
    "def test_input_fn(features, batch_size=256):\n",
    "    \"\"\"An input function for prediction.\"\"\"\n",
    "    # Convert the inputs to a Dataset without labels.\n",
    "    return tf.data.Dataset.from_tensor_slices(dict(features)).batch(batch_size)"
   ]
  },
  {
   "cell_type": "code",
   "execution_count": 37,
   "id": "0e3d6051-6076-4c20-93b9-0f70fe38c8e2",
   "metadata": {},
   "outputs": [],
   "source": [
    "test_predict = test_input_fn(dict(test_data))"
   ]
  },
  {
   "cell_type": "markdown",
   "id": "b5ba254f-b27a-440d-a1d8-1133bd893987",
   "metadata": {},
   "source": [
    "__Prediction: Linear Regression__\n",
    "\n",
    "Before we begin to feature engineer our feature columns, we should predict the median house value. By predicting the median house value now, we can then compare it with the median house value after feature engineering."
   ]
  },
  {
   "cell_type": "code",
   "execution_count": 38,
   "id": "855c25c9-a76a-4390-83ab-14569bef73cb",
   "metadata": {},
   "outputs": [
    {
     "name": "stdout",
     "output_type": "stream",
     "text": [
      "17/17 [==============================] - 0s 3ms/step\n"
     ]
    }
   ],
   "source": [
    "# Use the model to do prediction with `model.predict()`\n",
    "predicted_median_house_value = model.predict(test_predict)"
   ]
  },
  {
   "cell_type": "markdown",
   "id": "b03dded1-f818-4bc6-9ceb-42749e007d0c",
   "metadata": {},
   "source": [
    "Next, we run two predictions in separate cells - one where ocean_proximity=INLAND and one where ocean_proximity= NEAR OCEAN."
   ]
  },
  {
   "cell_type": "code",
   "execution_count": 39,
   "id": "10efa259-a8a8-4e2f-990e-52859512bd67",
   "metadata": {},
   "outputs": [
    {
     "name": "stdout",
     "output_type": "stream",
     "text": [
      "1/1 [==============================] - 0s 283ms/step\n"
     ]
    },
    {
     "data": {
      "text/plain": [
       "array([[1053.8676]], dtype=float32)"
      ]
     },
     "execution_count": 39,
     "metadata": {},
     "output_type": "execute_result"
    }
   ],
   "source": [
    "# Ocean_proximity is INLAND\n",
    "model.predict({\n",
    "    'longitude': tf.convert_to_tensor([-121.86]),\n",
    "    'latitude': tf.convert_to_tensor([39.78]),\n",
    "    'housing_median_age': tf.convert_to_tensor([12.0]),\n",
    "    'total_rooms': tf.convert_to_tensor([7653.0]),\n",
    "    'total_bedrooms': tf.convert_to_tensor([1578.0]),\n",
    "    'population': tf.convert_to_tensor([3628.0]),\n",
    "    'households': tf.convert_to_tensor([1494.0]),\n",
    "    'median_income': tf.convert_to_tensor([3.0905]),\n",
    "    'ocean_proximity': tf.convert_to_tensor(['INLAND'])\n",
    "}, steps=1)"
   ]
  },
  {
   "cell_type": "code",
   "execution_count": 40,
   "id": "bec2d968-2734-4056-a1b2-a997f473aacc",
   "metadata": {},
   "outputs": [
    {
     "name": "stdout",
     "output_type": "stream",
     "text": [
      "1/1 [==============================] - 0s 59ms/step\n"
     ]
    },
    {
     "data": {
      "text/plain": [
       "array([[1053.8676]], dtype=float32)"
      ]
     },
     "execution_count": 40,
     "metadata": {},
     "output_type": "execute_result"
    }
   ],
   "source": [
    "# Ocean_proximity is NEAR OCEAN\n",
    "model.predict({\n",
    "    'longitude': tf.convert_to_tensor([-122.43]),\n",
    "    'latitude': tf.convert_to_tensor([37.63]),\n",
    "    'housing_median_age': tf.convert_to_tensor([34.0]),\n",
    "    'total_rooms': tf.convert_to_tensor([4135.0]),\n",
    "    'total_bedrooms': tf.convert_to_tensor([687.0]),\n",
    "    'population': tf.convert_to_tensor([2154.0]),\n",
    "    'households': tf.convert_to_tensor([742.0]),\n",
    "    'median_income': tf.convert_to_tensor([4.9732]),\n",
    "    'ocean_proximity': tf.convert_to_tensor(['NEAR OCEAN'])\n",
    "}, steps=1)"
   ]
  },
  {
   "cell_type": "markdown",
   "id": "c83fad04-1b2e-422b-84db-5e764478cfc3",
   "metadata": {},
   "source": [
    "The arrays returns a predicted value.  What do these numbers mean?  Let's compare this value to the test set.  \r\n",
    "\r\n",
    "Go to the test.csv you read in a few cells up.  Locate the first line and find the median_house_value - which should be 249,000 dollars near the ocean. What value did your model predicted for the median_house_value? Was it a solid model performance? Let's see if we can improve this a bit with feature engineering! "
   ]
  },
  {
   "cell_type": "markdown",
   "id": "6bed8134-ef16-4ed8-b7ef-8b4cea8e6f03",
   "metadata": {},
   "source": [
    "## Engineer features to create categorical and numerical features"
   ]
  },
  {
   "cell_type": "markdown",
   "id": "c377a1af-91f1-46fa-9a72-78d0f3710890",
   "metadata": {},
   "source": [
    "Now we create a cell that indicates which features will be used in the model.\r\n",
    "Note: Be sure to bucketize 'housing_median_age' and ensure that 'ocean_proximity' is one-hot encoded. And, don't forget your numeric values!"
   ]
  },
  {
   "cell_type": "code",
   "execution_count": 41,
   "id": "04421991-d0a1-4daf-9155-6b2fb2c45189",
   "metadata": {},
   "outputs": [],
   "source": [
    "numeric_cols = ['longitude', 'latitude', 'housing_median_age', 'total_rooms',\n",
    "                'total_bedrooms', 'population', 'households', 'median_income']\n",
    "\n",
    "bucketized_cols = ['housing_median_age']\n",
    "\n",
    "# indicator columns,Categorical features\n",
    "categorical_cols = ['ocean_proximity']"
   ]
  },
  {
   "cell_type": "markdown",
   "id": "4350f44d-05e3-4b72-b92f-4037a9f04f54",
   "metadata": {},
   "source": [
    "Next, we scale the numerical, bucktized, and categorical feature columns that we assigned to the variables in the preceding cell."
   ]
  },
  {
   "cell_type": "code",
   "execution_count": 42,
   "id": "b5d2be39-74e8-4ad3-b135-fafe568bdefc",
   "metadata": {},
   "outputs": [],
   "source": [
    "# Scalar def get_scal(feature):\n",
    "def get_scal(feature):\n",
    "    def minmax(x):\n",
    "        mini = train[feature].min()\n",
    "        maxi = train[feature].max()\n",
    "        return (x - mini)/(maxi-mini)\n",
    "        return(minmax)"
   ]
  },
  {
   "cell_type": "code",
   "execution_count": 43,
   "id": "f19e3678-c1f5-4d8d-b466-70cfe94c7c72",
   "metadata": {},
   "outputs": [],
   "source": [
    "# All numerical features - scaling\n",
    "feature_columns = []\n",
    "for header in numeric_cols:\n",
    "    scal_input_fn = get_scal(header)\n",
    "    feature_columns.append(fc.numeric_column(header,\n",
    "                                             normalizer_fn=scal_input_fn))"
   ]
  },
  {
   "cell_type": "code",
   "execution_count": 44,
   "id": "f78e2cf9-339f-4bca-9eb7-f7a8adf60be8",
   "metadata": {},
   "outputs": [
    {
     "data": {
      "text/plain": [
       "[NumericColumn(key='longitude', shape=(1,), default_value=None, dtype=tf.float32, normalizer_fn=None),\n",
       " NumericColumn(key='latitude', shape=(1,), default_value=None, dtype=tf.float32, normalizer_fn=None),\n",
       " NumericColumn(key='housing_median_age', shape=(1,), default_value=None, dtype=tf.float32, normalizer_fn=None),\n",
       " NumericColumn(key='total_rooms', shape=(1,), default_value=None, dtype=tf.float32, normalizer_fn=None),\n",
       " NumericColumn(key='total_bedrooms', shape=(1,), default_value=None, dtype=tf.float32, normalizer_fn=None),\n",
       " NumericColumn(key='population', shape=(1,), default_value=None, dtype=tf.float32, normalizer_fn=None),\n",
       " NumericColumn(key='households', shape=(1,), default_value=None, dtype=tf.float32, normalizer_fn=None),\n",
       " NumericColumn(key='median_income', shape=(1,), default_value=None, dtype=tf.float32, normalizer_fn=None)]"
      ]
     },
     "execution_count": 44,
     "metadata": {},
     "output_type": "execute_result"
    }
   ],
   "source": [
    "feature_columns"
   ]
  },
  {
   "cell_type": "markdown",
   "id": "68773560-2658-40f7-8077-ff7144eef7fb",
   "metadata": {},
   "source": [
    "## Categorical Feature\n",
    "\n",
    "In this dataset, 'ocean_proximity' is represented as a string. We cannot feed strings directly to a model. Instead, we must first map them to numeric values. The categorical vocabulary columns provide a way to represent strings as a one-hot vector."
   ]
  },
  {
   "cell_type": "code",
   "execution_count": 45,
   "id": "0c58b7ab-56aa-4051-8bdf-3d13d5dacf7e",
   "metadata": {},
   "outputs": [
    {
     "name": "stdout",
     "output_type": "stream",
     "text": [
      "WARNING:tensorflow:From C:\\Users\\shaik\\AppData\\Local\\Temp\\ipykernel_1624\\1818860354.py:3: categorical_column_with_vocabulary_list (from tensorflow.python.feature_column.feature_column_v2) is deprecated and will be removed in a future version.\n",
      "Instructions for updating:\n",
      "Use Keras preprocessing layers instead, either directly or via the `tf.keras.utils.FeatureSpace` utility. Each of `tf.feature_column.*` has a functional equivalent in `tf.keras.layers` for feature preprocessing when training a Keras model.\n",
      "WARNING:tensorflow:From C:\\Users\\shaik\\AppData\\Local\\Temp\\ipykernel_1624\\1818860354.py:4: indicator_column (from tensorflow.python.feature_column.feature_column_v2) is deprecated and will be removed in a future version.\n",
      "Instructions for updating:\n",
      "Use Keras preprocessing layers instead, either directly or via the `tf.keras.utils.FeatureSpace` utility. Each of `tf.feature_column.*` has a functional equivalent in `tf.keras.layers` for feature preprocessing when training a Keras model.\n"
     ]
    }
   ],
   "source": [
    "for feature_name in categorical_cols:\n",
    "    vocabulary = housing_df[feature_name].unique()\n",
    "    categorical_c = fc.categorical_column_with_vocabulary_list(feature_name, vocabulary)\n",
    "    one_hot = fc.indicator_column(categorical_c)\n",
    "    feature_columns.append(one_hot)"
   ]
  },
  {
   "cell_type": "markdown",
   "id": "2333497d-8cf0-4a1a-a936-fe646ee9ece8",
   "metadata": {},
   "source": [
    "## Bucketized Feature\n",
    "\n",
    "Often, you don't want to feed a number directly into the model, but instead split its value into different categories based on numerical ranges. Consider our raw data that represents a homes' age. Instead of representing the house age as a numeric column, we could split the home age into several buckets using a bucketized column. Notice the one-hot values below describe which age range each row matches."
   ]
  },
  {
   "cell_type": "code",
   "execution_count": 46,
   "id": "077c71b0-7065-427d-baba-7a5c7526db4a",
   "metadata": {},
   "outputs": [
    {
     "name": "stdout",
     "output_type": "stream",
     "text": [
      "WARNING:tensorflow:From C:\\Users\\shaik\\AppData\\Local\\Temp\\ipykernel_1624\\536785544.py:6: bucketized_column (from tensorflow.python.feature_column.feature_column_v2) is deprecated and will be removed in a future version.\n",
      "Instructions for updating:\n",
      "Use Keras preprocessing layers instead, either directly or via the `tf.keras.utils.FeatureSpace` utility. Each of `tf.feature_column.*` has a functional equivalent in `tf.keras.layers` for feature preprocessing when training a Keras model.\n"
     ]
    }
   ],
   "source": [
    "## \n",
    "\n",
    "age = fc.numeric_column(\"housing_median_age\")\r\n",
    "\r\n",
    "# Bucketized cols\r\n",
    "age_buckets = fc.bucketized_column(age, boundaries=[10, 20, 30, 40, 50, 60, 80, 100])\r\n",
    "feature_columns.append(age_buckets)"
   ]
  },
  {
   "cell_type": "markdown",
   "id": "c8d963de-720d-4d60-a7ea-ef2c8127aab7",
   "metadata": {},
   "source": [
    "## Feature Cross\n",
    "\n",
    "Combining features into a single feature, better known as feature crosses, enables a model to learn separate weights for each combination of features.\r\n",
    "\r\n",
    "Nex e create a feature cross of 'housing_median_age' and 'ocean_proximity'."
   ]
  },
  {
   "cell_type": "code",
   "execution_count": 47,
   "id": "5d6dc239-db17-40a7-8270-eef39a4da444",
   "metadata": {},
   "outputs": [
    {
     "name": "stdout",
     "output_type": "stream",
     "text": [
      "WARNING:tensorflow:From C:\\Users\\shaik\\AppData\\Local\\Temp\\ipykernel_1624\\3788803816.py:5: crossed_column (from tensorflow.python.feature_column.feature_column_v2) is deprecated and will be removed in a future version.\n",
      "Instructions for updating:\n",
      "Use `tf.keras.layers.experimental.preprocessing.HashedCrossing` instead for feature crossing when preprocessing data to train a Keras model.\n"
     ]
    }
   ],
   "source": [
    "vocabulary = housing_df['ocean_proximity'].unique()\r\n",
    "ocean_proximity = fc.categorical_column_with_vocabulary_list('ocean_proximity',\r\n",
    "                                                             vocabulary)\r\n",
    "\r\n",
    "crossed_feature = fc.crossed_column([age_buckets, ocean_proximity],\r\n",
    "                                    hash_bucket_size=1000)\r\n",
    "crossed_feature = fc.indicator_column(crossed_feature)\r\n",
    "feature_columns.append(crossed_feature)"
   ]
  },
  {
   "cell_type": "markdown",
   "id": "0819b9e5-1297-439a-9b3e-61bd03a3daa1",
   "metadata": {},
   "source": [
    "validate the total number of feature columns. Compare this number to the number of numeric features you input earlier."
   ]
  },
  {
   "cell_type": "code",
   "execution_count": 48,
   "id": "c8bab862-1dcf-4692-aab8-3159bf56c4a9",
   "metadata": {},
   "outputs": [
    {
     "name": "stdout",
     "output_type": "stream",
     "text": [
      "Total number of feature columns:  11\n"
     ]
    }
   ],
   "source": [
    "print('Total number of feature columns: ', len(feature_columns))"
   ]
  },
  {
   "cell_type": "code",
   "execution_count": 49,
   "id": "efff01e1-270f-4be2-8e26-c0ac08a3a27c",
   "metadata": {},
   "outputs": [
    {
     "name": "stdout",
     "output_type": "stream",
     "text": [
      "Epoch 1/32\n",
      "413/413 [==============================] - 4s 6ms/step - loss: 56508588032.0000 - mse: 56508588032.0000 - val_loss: 56171233280.0000 - val_mse: 56171233280.0000\n",
      "Epoch 2/32\n",
      "413/413 [==============================] - 3s 6ms/step - loss: 56508309504.0000 - mse: 56508309504.0000 - val_loss: 56170872832.0000 - val_mse: 56170872832.0000\n",
      "Epoch 3/32\n",
      "413/413 [==============================] - 2s 5ms/step - loss: 56507785216.0000 - mse: 56507785216.0000 - val_loss: 56170090496.0000 - val_mse: 56170090496.0000\n",
      "Epoch 4/32\n",
      "413/413 [==============================] - 2s 5ms/step - loss: 56506609664.0000 - mse: 56506609664.0000 - val_loss: 56168488960.0000 - val_mse: 56168488960.0000\n",
      "Epoch 5/32\n",
      "413/413 [==============================] - 2s 6ms/step - loss: 56504471552.0000 - mse: 56504471552.0000 - val_loss: 56165801984.0000 - val_mse: 56165801984.0000\n",
      "Epoch 6/32\n",
      "413/413 [==============================] - 3s 6ms/step - loss: 56501317632.0000 - mse: 56501317632.0000 - val_loss: 56162099200.0000 - val_mse: 56162099200.0000\n",
      "Epoch 7/32\n",
      "413/413 [==============================] - 3s 6ms/step - loss: 56497188864.0000 - mse: 56497188864.0000 - val_loss: 56157614080.0000 - val_mse: 56157614080.0000\n",
      "Epoch 8/32\n",
      "413/413 [==============================] - 2s 5ms/step - loss: 56492310528.0000 - mse: 56492310528.0000 - val_loss: 56152395776.0000 - val_mse: 56152395776.0000\n",
      "Epoch 9/32\n",
      "413/413 [==============================] - 2s 5ms/step - loss: 56486785024.0000 - mse: 56486785024.0000 - val_loss: 56146599936.0000 - val_mse: 56146599936.0000\n",
      "Epoch 10/32\n",
      "413/413 [==============================] - 3s 6ms/step - loss: 56480759808.0000 - mse: 56480759808.0000 - val_loss: 56140230656.0000 - val_mse: 56140230656.0000\n",
      "Epoch 11/32\n",
      "413/413 [==============================] - 2s 6ms/step - loss: 56474107904.0000 - mse: 56474107904.0000 - val_loss: 56133332992.0000 - val_mse: 56133332992.0000\n",
      "Epoch 12/32\n",
      "413/413 [==============================] - 2s 5ms/step - loss: 56466997248.0000 - mse: 56466997248.0000 - val_loss: 56125939712.0000 - val_mse: 56125939712.0000\n",
      "Epoch 13/32\n",
      "413/413 [==============================] - 2s 5ms/step - loss: 56459296768.0000 - mse: 56459296768.0000 - val_loss: 56118059008.0000 - val_mse: 56118059008.0000\n",
      "Epoch 14/32\n",
      "413/413 [==============================] - 2s 5ms/step - loss: 56451239936.0000 - mse: 56451239936.0000 - val_loss: 56109658112.0000 - val_mse: 56109658112.0000\n",
      "Epoch 15/32\n",
      "413/413 [==============================] - 2s 5ms/step - loss: 56442605568.0000 - mse: 56442605568.0000 - val_loss: 56100814848.0000 - val_mse: 56100814848.0000\n",
      "Epoch 16/32\n",
      "413/413 [==============================] - 2s 5ms/step - loss: 56433508352.0000 - mse: 56433508352.0000 - val_loss: 56091504640.0000 - val_mse: 56091504640.0000\n",
      "Epoch 17/32\n",
      "413/413 [==============================] - 2s 5ms/step - loss: 56423956480.0000 - mse: 56423956480.0000 - val_loss: 56081690624.0000 - val_mse: 56081690624.0000\n",
      "Epoch 18/32\n",
      "413/413 [==============================] - 2s 5ms/step - loss: 56413945856.0000 - mse: 56413945856.0000 - val_loss: 56071458816.0000 - val_mse: 56071458816.0000\n",
      "Epoch 19/32\n",
      "413/413 [==============================] - 2s 5ms/step - loss: 56403472384.0000 - mse: 56403472384.0000 - val_loss: 56060715008.0000 - val_mse: 56060715008.0000\n",
      "Epoch 20/32\n",
      "413/413 [==============================] - 2s 5ms/step - loss: 56392540160.0000 - mse: 56392540160.0000 - val_loss: 56049528832.0000 - val_mse: 56049528832.0000\n",
      "Epoch 21/32\n",
      "413/413 [==============================] - 2s 5ms/step - loss: 56381128704.0000 - mse: 56381128704.0000 - val_loss: 56037908480.0000 - val_mse: 56037908480.0000\n",
      "Epoch 22/32\n",
      "413/413 [==============================] - 2s 5ms/step - loss: 56369332224.0000 - mse: 56369332224.0000 - val_loss: 56025825280.0000 - val_mse: 56025825280.0000\n",
      "Epoch 23/32\n",
      "413/413 [==============================] - 2s 5ms/step - loss: 56356986880.0000 - mse: 56356986880.0000 - val_loss: 56013262848.0000 - val_mse: 56013262848.0000\n",
      "Epoch 24/32\n",
      "413/413 [==============================] - 2s 5ms/step - loss: 56344219648.0000 - mse: 56344219648.0000 - val_loss: 56000245760.0000 - val_mse: 56000245760.0000\n",
      "Epoch 25/32\n",
      "413/413 [==============================] - 2s 5ms/step - loss: 56331026432.0000 - mse: 56331026432.0000 - val_loss: 55986814976.0000 - val_mse: 55986814976.0000\n",
      "Epoch 26/32\n",
      "413/413 [==============================] - 2s 5ms/step - loss: 56317321216.0000 - mse: 56317321216.0000 - val_loss: 55972880384.0000 - val_mse: 55972880384.0000\n",
      "Epoch 27/32\n",
      "413/413 [==============================] - 2s 5ms/step - loss: 56303214592.0000 - mse: 56303214592.0000 - val_loss: 55958515712.0000 - val_mse: 55958515712.0000\n",
      "Epoch 28/32\n",
      "413/413 [==============================] - 2s 5ms/step - loss: 56288681984.0000 - mse: 56288681984.0000 - val_loss: 55943741440.0000 - val_mse: 55943741440.0000\n",
      "Epoch 29/32\n",
      "413/413 [==============================] - 2s 5ms/step - loss: 56273694720.0000 - mse: 56273694720.0000 - val_loss: 55928512512.0000 - val_mse: 55928512512.0000\n",
      "Epoch 30/32\n",
      "413/413 [==============================] - 2s 5ms/step - loss: 56258203648.0000 - mse: 56258203648.0000 - val_loss: 55912796160.0000 - val_mse: 55912796160.0000\n",
      "Epoch 31/32\n",
      "413/413 [==============================] - 2s 5ms/step - loss: 56242327552.0000 - mse: 56242327552.0000 - val_loss: 55896682496.0000 - val_mse: 55896682496.0000\n",
      "Epoch 32/32\n",
      "413/413 [==============================] - 2s 5ms/step - loss: 56225996800.0000 - mse: 56225996800.0000 - val_loss: 55880085504.0000 - val_mse: 55880085504.0000\n"
     ]
    }
   ],
   "source": [
    "#compile and fit the Keras Sequential model\n",
    "\n",
    "feature_layer = tf.keras.layers.DenseFeatures(feature_columns,\n",
    "                                              dtype='float64')\n",
    "\n",
    "# `tf.keras.Sequential()` groups a linear stack of layers into a tf.keras.Model.\n",
    "model = tf.keras.Sequential([\n",
    "  feature_layer,\n",
    "  layers.Dense(12, input_dim=8, activation='relu'),\n",
    "  layers.Dense(8, activation='relu'),\n",
    "  layers.Dense(1, activation='linear',  name='median_house_value')\n",
    "])\n",
    "\n",
    "# Model compile\n",
    "model.compile(optimizer='adam',\n",
    "              loss='mse',\n",
    "              metrics=['mse'])\n",
    "\n",
    "# Model Fit\n",
    "history = model.fit(train_ds,\n",
    "                    validation_data=val_ds,\n",
    "                    epochs=32)"
   ]
  },
  {
   "cell_type": "code",
   "execution_count": 50,
   "id": "076675b0-0e26-4510-a45f-e95ad2e1b81c",
   "metadata": {},
   "outputs": [
    {
     "name": "stdout",
     "output_type": "stream",
     "text": [
      "413/413 [==============================] - 1s 3ms/step - loss: 56217640960.0000 - mse: 56217640960.0000\n",
      "Mean Squared Error 56217640960.0\n"
     ]
    }
   ],
   "source": [
    "loss, mse = model.evaluate(train_ds)\n",
    "print(\"Mean Squared Error\", mse)"
   ]
  },
  {
   "cell_type": "code",
   "execution_count": 51,
   "id": "232c6101-9091-4c60-888b-0197e0d43065",
   "metadata": {},
   "outputs": [
    {
     "data": {
      "image/png": "[encoded data removed]",
      "text/plain": [
       "<Figure size 2000x1000 with 2 Axes>"
      ]
     },
     "metadata": {},
     "output_type": "display_data"
    }
   ],
   "source": [
    "plot_curves(history, ['loss', 'mse'])"
   ]
  },
  {
   "cell_type": "code",
   "execution_count": 52,
   "id": "0da921c9-e3b7-43ce-9039-3cda38e7e2c6",
   "metadata": {},
   "outputs": [
    {
     "name": "stdout",
     "output_type": "stream",
     "text": [
      "1/1 [==============================] - 0s 385ms/step\n"
     ]
    },
    {
     "data": {
      "text/plain": [
       "array([[703.0498]], dtype=float32)"
      ]
     },
     "execution_count": 52,
     "metadata": {},
     "output_type": "execute_result"
    }
   ],
   "source": [
    "# Median_house_value is $249,000, prediction is $234,000 NEAR OCEAN\n",
    "model.predict({\n",
    "    'longitude': tf.convert_to_tensor([-122.43]),\n",
    "    'latitude': tf.convert_to_tensor([37.63]),\n",
    "    'housing_median_age': tf.convert_to_tensor([34.0]),\n",
    "    'total_rooms': tf.convert_to_tensor([4135.0]),\n",
    "    'total_bedrooms': tf.convert_to_tensor([687.0]),\n",
    "    'population': tf.convert_to_tensor([2154.0]),\n",
    "    'households': tf.convert_to_tensor([742.0]),\n",
    "    'median_income': tf.convert_to_tensor([4.9732]),\n",
    "    'ocean_proximity': tf.convert_to_tensor(['NEAR OCEAN'])\n",
    "}, steps=1)"
   ]
  },
  {
   "cell_type": "code",
   "execution_count": null,
   "id": "823d5058-6534-4ce6-9cfb-ad303a8e9ecc",
   "metadata": {},
   "outputs": [],
   "source": []
  }
 ],
 "metadata": {
  "kernelspec": {
   "display_name": "Python 3 (ipykernel)",
   "language": "python",
   "name": "python3"
  },
  "language_info": {
   "codemirror_mode": {
    "name": "ipython",
    "version": 3
   },
   "file_extension": ".py",
   "mimetype": "text/x-python",
   "name": "python",
   "nbconvert_exporter": "python",
   "pygments_lexer": "ipython3",
   "version": "3.11.5"
  }
 },
 "nbformat": 4,
 "nbformat_minor": 5
}
